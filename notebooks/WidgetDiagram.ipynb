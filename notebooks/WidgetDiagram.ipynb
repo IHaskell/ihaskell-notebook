{
 "cells": [
  {
   "cell_type": "markdown",
   "metadata": {},
   "source": [
    "## Demonstration combining Widgets with Diagrams"
   ]
  },
  {
   "cell_type": "markdown",
   "metadata": {},
   "source": [
    "Let's attach a slider widget to one parameter of the *Apollonian gasket* from the `diagrams-contrib` package.\n",
    "\n",
    "https://hackage.haskell.org/package/diagrams-contrib/docs/Diagrams-TwoD-Apollonian.html"
   ]
  },
  {
   "cell_type": "code",
   "execution_count": 1,
   "metadata": {},
   "outputs": [
    {
     "data": {
      "application/vnd.jupyter.widget-view+json": {
       "model_id": "3a836ed3-872d-43a8-9572-34987eb47d71",
       "version_major": 2,
       "version_minor": 0
      }
     },
     "metadata": {},
     "output_type": "display_data"
    },
    {
     "data": {
      "application/vnd.jupyter.widget-view+json": {
       "model_id": "631d997a-191f-4dc9-8566-4a3a3cb32921",
       "version_major": 2,
       "version_minor": 0
      }
     },
     "metadata": {},
     "output_type": "display_data"
    }
   ],
   "source": [
    "import Diagrams.Prelude\n",
    "import Diagrams.TwoD.Apollonian\n",
    "import IHaskell.Display.Widgets\n",
    "\n",
    "sliderApollo <- mkFloatSlider\n",
    "setField sliderApollo MinFloat 4.0\n",
    "setField sliderApollo MaxFloat 9.0\n",
    "setField sliderApollo StepFloat (Just 0.1)\n",
    "setField sliderApollo FloatValue 5.0\n",
    "\n",
    "outApollo <- mkOutput\n",
    "\n",
    "drawApollo = getField sliderApollo FloatValue >>= \\val ->\n",
    "  replaceOutput outApollo $ diagram $ apollonianGasket 0.01 2 4 val\n",
    "\n",
    "setField sliderApollo ChangeHandler drawApollo\n",
    "\n",
    "sliderApollo\n",
    "outApollo\n",
    "drawApollo"
   ]
  },
  {
   "cell_type": "markdown",
   "metadata": {},
   "source": [
    "Draw a cat tail diagram, controlled by a slider widget."
   ]
  },
  {
   "cell_type": "code",
   "execution_count": 2,
   "metadata": {},
   "outputs": [
    {
     "data": {
      "application/vnd.jupyter.widget-view+json": {
       "model_id": "9e58e9f2-6403-4b3b-88a1-90928bd8474c",
       "version_major": 2,
       "version_minor": 0
      }
     },
     "metadata": {},
     "output_type": "display_data"
    },
    {
     "data": {
      "application/vnd.jupyter.widget-view+json": {
       "model_id": "727cfef5-8275-4563-b26e-5a6371bd95c6",
       "version_major": 2,
       "version_minor": 0
      }
     },
     "metadata": {},
     "output_type": "display_data"
    }
   ],
   "source": [
    ":extension BlockArguments\n",
    "import Data.Foldable\n",
    "import Diagrams.Prelude\n",
    "import Diagrams.TwoD.Path.Turtle\n",
    "import IHaskell.Display.Widgets\n",
    "\n",
    "sliderCat <- mkFloatSlider\n",
    "setField sliderCat MinFloat (-100.0)\n",
    "setField sliderCat MaxFloat 100.0\n",
    "setField sliderCat StepFloat (Just 1.0)\n",
    "setField sliderCat FloatValue 0.0\n",
    "\n",
    "outCat <- mkOutput\n",
    "\n",
    "drawCat = do\n",
    "  val <- getField sliderCat FloatValue\n",
    "  replaceOutput outCat $ diagram $ rotate ((-90.0) @@ deg) $ sizeDiagram $ drawTurtle do\n",
    "    setPenWidth 4\n",
    "    for_ [1.0,2.0..30.0] \\i -> do\n",
    "      forward 10.0\n",
    "      left (val * i / 100.0)\n",
    " where \n",
    "  sizeDiagram = withEnvelope (fromPoints [mkP2 0.0 (-180.0), mkP2 300.0 180.0]) \n",
    "\n",
    "setField sliderCat ChangeHandler drawCat\n",
    "\n",
    "sliderCat\n",
    "outCat\n",
    "drawCat"
   ]
  }
 ],
 "metadata": {
  "kernelspec": {
   "display_name": "Haskell",
   "language": "haskell",
   "name": "haskell"
  },
  "language_info": {
   "codemirror_mode": "ihaskell",
   "file_extension": ".hs",
   "mimetype": "text/x-haskell",
   "name": "haskell",
   "pygments_lexer": "Haskell",
   "version": "8.10.4"
  }
 },
 "nbformat": 4,
 "nbformat_minor": 4
}
