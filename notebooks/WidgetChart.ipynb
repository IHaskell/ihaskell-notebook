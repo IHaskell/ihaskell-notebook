{
 "cells": [
  {
   "cell_type": "markdown",
   "metadata": {},
   "source": [
    "## Demonstration combining Widgets with Charts"
   ]
  },
  {
   "cell_type": "code",
   "execution_count": 1,
   "metadata": {},
   "outputs": [
    {
     "data": {
      "application/vnd.jupyter.widget-view+json": {
       "model_id": "3f106d34-dd2d-4817-a566-dd53574c5d3e",
       "version_major": 2,
       "version_minor": 0
      }
     },
     "metadata": {},
     "output_type": "display_data"
    },
    {
     "data": {
      "application/vnd.jupyter.widget-view+json": {
       "model_id": "3afa14b2-cc8c-4660-a758-8bd1e2f5ea38",
       "version_major": 2,
       "version_minor": 0
      }
     },
     "metadata": {},
     "output_type": "display_data"
    }
   ],
   "source": [
    "import Graphics.Rendering.Chart\n",
    "import IHaskell.Display.Widgets\n",
    "import IHaskell.Display\n",
    "import Data.Default.Class\n",
    "import Control.Lens\n",
    "\n",
    "f = sin              -- The function which we will plot\n",
    "domain = (0.0, 10.0) -- The domain of the function which we will plot\n",
    "\n",
    "grain = (snd domain - fst domain) / 100.0\n",
    "\n",
    "numericIntegral [] = 0\n",
    "numericIntegral [_] = 0\n",
    "numericIntegral ((x1,y1):(x2,y2):ps) = \n",
    "    ((x2 - x1) * ((y1 + y2) / 2.0)) + numericIntegral ((x2,y2):ps)\n",
    "\n",
    "sliderRange <- mkFloatRangeSlider\n",
    "setField sliderRange MinFloat (fst domain)\n",
    "setField sliderRange MaxFloat (snd domain)\n",
    "setField sliderRange StepFloat (Just grain)\n",
    "setField sliderRange FloatPairValue (fst domain, snd domain)\n",
    "\n",
    "outChart <- mkOutput\n",
    "\n",
    "drawChart = do \n",
    "  (rangeMin, rangeMax) <- getField sliderRange FloatPairValue\n",
    "  let \n",
    "    pts = [(x, f x) | x <- [fst domain, grain .. snd domain]]    \n",
    "    ptsRange = takeWhile ((<= rangeMax) . fst) $ dropWhile ((< rangeMin) . fst) pts\n",
    "    layout = def & layout_plots .~\n",
    "      [ toPlot $ def & plot_lines_values .~ [pts]\n",
    "      , toPlot $ def & plot_fillbetween_values .~ [(x,(0.0,y)) | (x,y) <- ptsRange]\n",
    "      ]\n",
    "  displayCaption <- display $ plain \n",
    "      $ \"Area under the curve = \" <> show (numericIntegral ptsRange)\n",
    "  displayChart <- display $ toRenderable layout\n",
    "  setField outChart Outputs [OutputData displayCaption, OutputData displayChart]\n",
    "      \n",
    "setField sliderRange ChangeHandler drawChart\n",
    "\n",
    "sliderRange\n",
    "outChart\n",
    "drawChart"
   ]
  },
  {
   "cell_type": "code",
   "execution_count": null,
   "metadata": {},
   "outputs": [],
   "source": []
  }
 ],
 "metadata": {
  "kernelspec": {
   "display_name": "Haskell",
   "language": "haskell",
   "name": "haskell"
  },
  "language_info": {
   "codemirror_mode": "ihaskell",
   "file_extension": ".hs",
   "mimetype": "text/x-haskell",
   "name": "haskell",
   "pygments_lexer": "Haskell",
   "version": "8.10.4"
  }
 },
 "nbformat": 4,
 "nbformat_minor": 4
}
